{
  "nbformat": 4,
  "nbformat_minor": 0,
  "metadata": {
    "colab": {
      "provenance": [],
      "collapsed_sections": []
    },
    "kernelspec": {
      "name": "python3",
      "display_name": "Python 3"
    },
    "language_info": {
      "name": "python"
    }
  },
  "cells": [
    {
      "cell_type": "code",
      "execution_count": null,
      "metadata": {
        "id": "E1xw6ZSeegeC"
      },
      "outputs": [],
      "source": [
        "import math\n",
        "import pandas_datareader as web\n",
        "import numpy as np\n",
        "import pandas as pd\n",
        "from sklearn.preprocessing import MinMaxScaler\n",
        "from keras.models import Sequential\n",
        "from keras.layers import Dense, LSTM\n",
        "import matplotlib.pyplot as plt\n",
        "plt.style.use('fivethirtyeight')"
      ]
    },
    {
      "cell_type": "code",
      "source": [
        "df= pd.read_csv('./BARC_FINAL_PRED.csv', index_col =0)\n",
        "df"
      ],
      "metadata": {
        "colab": {
          "base_uri": "https://localhost:8080/",
          "height": 442
        },
        "id": "Yj7ok0v3fav7",
        "outputId": "c478e48d-29df-46dc-94a5-249879b39834"
      },
      "execution_count": null,
      "outputs": [
        {
          "output_type": "execute_result",
          "data": {
            "text/plain": [
              "                  Open        High         Low       Close   Adj Close  \\\n",
              "Date                                                                     \n",
              "2020-01-01  179.639999  186.199997  175.000000  183.139999  167.392426   \n",
              "2020-01-08  181.119995  184.800003  179.199997  181.000000  165.436432   \n",
              "2020-01-15  180.800003  181.707993  172.500000  174.399994  159.403931   \n",
              "2020-01-22  175.360001  175.990005  169.199997  172.020004  157.228607   \n",
              "2020-01-29  173.199997  173.600006  167.839996  172.000000  157.210327   \n",
              "...                ...         ...         ...         ...         ...   \n",
              "2022-07-13  150.360001  159.600006  145.160004  158.220001  156.122955   \n",
              "2022-07-20  158.539993  161.889999  155.899994  156.880005  154.800720   \n",
              "2022-07-27  157.460007  162.080002  149.300003  160.020004  157.899094   \n",
              "2022-08-03  158.899994  167.699997  158.779999  165.860001  163.661697   \n",
              "2022-08-10  166.000000  172.921997  165.419998  170.500000  168.240189   \n",
              "\n",
              "               Volume  \n",
              "Date                   \n",
              "2020-01-01  114494137  \n",
              "2020-01-08  132717233  \n",
              "2020-01-15  210368898  \n",
              "2020-01-22  149952316  \n",
              "2020-01-29  134106079  \n",
              "...               ...  \n",
              "2022-07-13  249089913  \n",
              "2022-07-20  303062093  \n",
              "2022-07-27  414614519  \n",
              "2022-08-03  251669272  \n",
              "2022-08-10  250300210  \n",
              "\n",
              "[137 rows x 6 columns]"
            ],
            "text/html": [
              "\n",
              "  <div id=\"df-cbf0d5c3-3dc6-4e81-9914-f9af9c43fa66\">\n",
              "    <div class=\"colab-df-container\">\n",
              "      <div>\n",
              "<style scoped>\n",
              "    .dataframe tbody tr th:only-of-type {\n",
              "        vertical-align: middle;\n",
              "    }\n",
              "\n",
              "    .dataframe tbody tr th {\n",
              "        vertical-align: top;\n",
              "    }\n",
              "\n",
              "    .dataframe thead th {\n",
              "        text-align: right;\n",
              "    }\n",
              "</style>\n",
              "<table border=\"1\" class=\"dataframe\">\n",
              "  <thead>\n",
              "    <tr style=\"text-align: right;\">\n",
              "      <th></th>\n",
              "      <th>Open</th>\n",
              "      <th>High</th>\n",
              "      <th>Low</th>\n",
              "      <th>Close</th>\n",
              "      <th>Adj Close</th>\n",
              "      <th>Volume</th>\n",
              "    </tr>\n",
              "    <tr>\n",
              "      <th>Date</th>\n",
              "      <th></th>\n",
              "      <th></th>\n",
              "      <th></th>\n",
              "      <th></th>\n",
              "      <th></th>\n",
              "      <th></th>\n",
              "    </tr>\n",
              "  </thead>\n",
              "  <tbody>\n",
              "    <tr>\n",
              "      <th>2020-01-01</th>\n",
              "      <td>179.639999</td>\n",
              "      <td>186.199997</td>\n",
              "      <td>175.000000</td>\n",
              "      <td>183.139999</td>\n",
              "      <td>167.392426</td>\n",
              "      <td>114494137</td>\n",
              "    </tr>\n",
              "    <tr>\n",
              "      <th>2020-01-08</th>\n",
              "      <td>181.119995</td>\n",
              "      <td>184.800003</td>\n",
              "      <td>179.199997</td>\n",
              "      <td>181.000000</td>\n",
              "      <td>165.436432</td>\n",
              "      <td>132717233</td>\n",
              "    </tr>\n",
              "    <tr>\n",
              "      <th>2020-01-15</th>\n",
              "      <td>180.800003</td>\n",
              "      <td>181.707993</td>\n",
              "      <td>172.500000</td>\n",
              "      <td>174.399994</td>\n",
              "      <td>159.403931</td>\n",
              "      <td>210368898</td>\n",
              "    </tr>\n",
              "    <tr>\n",
              "      <th>2020-01-22</th>\n",
              "      <td>175.360001</td>\n",
              "      <td>175.990005</td>\n",
              "      <td>169.199997</td>\n",
              "      <td>172.020004</td>\n",
              "      <td>157.228607</td>\n",
              "      <td>149952316</td>\n",
              "    </tr>\n",
              "    <tr>\n",
              "      <th>2020-01-29</th>\n",
              "      <td>173.199997</td>\n",
              "      <td>173.600006</td>\n",
              "      <td>167.839996</td>\n",
              "      <td>172.000000</td>\n",
              "      <td>157.210327</td>\n",
              "      <td>134106079</td>\n",
              "    </tr>\n",
              "    <tr>\n",
              "      <th>...</th>\n",
              "      <td>...</td>\n",
              "      <td>...</td>\n",
              "      <td>...</td>\n",
              "      <td>...</td>\n",
              "      <td>...</td>\n",
              "      <td>...</td>\n",
              "    </tr>\n",
              "    <tr>\n",
              "      <th>2022-07-13</th>\n",
              "      <td>150.360001</td>\n",
              "      <td>159.600006</td>\n",
              "      <td>145.160004</td>\n",
              "      <td>158.220001</td>\n",
              "      <td>156.122955</td>\n",
              "      <td>249089913</td>\n",
              "    </tr>\n",
              "    <tr>\n",
              "      <th>2022-07-20</th>\n",
              "      <td>158.539993</td>\n",
              "      <td>161.889999</td>\n",
              "      <td>155.899994</td>\n",
              "      <td>156.880005</td>\n",
              "      <td>154.800720</td>\n",
              "      <td>303062093</td>\n",
              "    </tr>\n",
              "    <tr>\n",
              "      <th>2022-07-27</th>\n",
              "      <td>157.460007</td>\n",
              "      <td>162.080002</td>\n",
              "      <td>149.300003</td>\n",
              "      <td>160.020004</td>\n",
              "      <td>157.899094</td>\n",
              "      <td>414614519</td>\n",
              "    </tr>\n",
              "    <tr>\n",
              "      <th>2022-08-03</th>\n",
              "      <td>158.899994</td>\n",
              "      <td>167.699997</td>\n",
              "      <td>158.779999</td>\n",
              "      <td>165.860001</td>\n",
              "      <td>163.661697</td>\n",
              "      <td>251669272</td>\n",
              "    </tr>\n",
              "    <tr>\n",
              "      <th>2022-08-10</th>\n",
              "      <td>166.000000</td>\n",
              "      <td>172.921997</td>\n",
              "      <td>165.419998</td>\n",
              "      <td>170.500000</td>\n",
              "      <td>168.240189</td>\n",
              "      <td>250300210</td>\n",
              "    </tr>\n",
              "  </tbody>\n",
              "</table>\n",
              "<p>137 rows × 6 columns</p>\n",
              "</div>\n",
              "      <button class=\"colab-df-convert\" onclick=\"convertToInteractive('df-cbf0d5c3-3dc6-4e81-9914-f9af9c43fa66')\"\n",
              "              title=\"Convert this dataframe to an interactive table.\"\n",
              "              style=\"display:none;\">\n",
              "        \n",
              "  <svg xmlns=\"http://www.w3.org/2000/svg\" height=\"24px\"viewBox=\"0 0 24 24\"\n",
              "       width=\"24px\">\n",
              "    <path d=\"M0 0h24v24H0V0z\" fill=\"none\"/>\n",
              "    <path d=\"M18.56 5.44l.94 2.06.94-2.06 2.06-.94-2.06-.94-.94-2.06-.94 2.06-2.06.94zm-11 1L8.5 8.5l.94-2.06 2.06-.94-2.06-.94L8.5 2.5l-.94 2.06-2.06.94zm10 10l.94 2.06.94-2.06 2.06-.94-2.06-.94-.94-2.06-.94 2.06-2.06.94z\"/><path d=\"M17.41 7.96l-1.37-1.37c-.4-.4-.92-.59-1.43-.59-.52 0-1.04.2-1.43.59L10.3 9.45l-7.72 7.72c-.78.78-.78 2.05 0 2.83L4 21.41c.39.39.9.59 1.41.59.51 0 1.02-.2 1.41-.59l7.78-7.78 2.81-2.81c.8-.78.8-2.07 0-2.86zM5.41 20L4 18.59l7.72-7.72 1.47 1.35L5.41 20z\"/>\n",
              "  </svg>\n",
              "      </button>\n",
              "      \n",
              "  <style>\n",
              "    .colab-df-container {\n",
              "      display:flex;\n",
              "      flex-wrap:wrap;\n",
              "      gap: 12px;\n",
              "    }\n",
              "\n",
              "    .colab-df-convert {\n",
              "      background-color: #E8F0FE;\n",
              "      border: none;\n",
              "      border-radius: 50%;\n",
              "      cursor: pointer;\n",
              "      display: none;\n",
              "      fill: #1967D2;\n",
              "      height: 32px;\n",
              "      padding: 0 0 0 0;\n",
              "      width: 32px;\n",
              "    }\n",
              "\n",
              "    .colab-df-convert:hover {\n",
              "      background-color: #E2EBFA;\n",
              "      box-shadow: 0px 1px 2px rgba(60, 64, 67, 0.3), 0px 1px 3px 1px rgba(60, 64, 67, 0.15);\n",
              "      fill: #174EA6;\n",
              "    }\n",
              "\n",
              "    [theme=dark] .colab-df-convert {\n",
              "      background-color: #3B4455;\n",
              "      fill: #D2E3FC;\n",
              "    }\n",
              "\n",
              "    [theme=dark] .colab-df-convert:hover {\n",
              "      background-color: #434B5C;\n",
              "      box-shadow: 0px 1px 3px 1px rgba(0, 0, 0, 0.15);\n",
              "      filter: drop-shadow(0px 1px 2px rgba(0, 0, 0, 0.3));\n",
              "      fill: #FFFFFF;\n",
              "    }\n",
              "  </style>\n",
              "\n",
              "      <script>\n",
              "        const buttonEl =\n",
              "          document.querySelector('#df-cbf0d5c3-3dc6-4e81-9914-f9af9c43fa66 button.colab-df-convert');\n",
              "        buttonEl.style.display =\n",
              "          google.colab.kernel.accessAllowed ? 'block' : 'none';\n",
              "\n",
              "        async function convertToInteractive(key) {\n",
              "          const element = document.querySelector('#df-cbf0d5c3-3dc6-4e81-9914-f9af9c43fa66');\n",
              "          const dataTable =\n",
              "            await google.colab.kernel.invokeFunction('convertToInteractive',\n",
              "                                                     [key], {});\n",
              "          if (!dataTable) return;\n",
              "\n",
              "          const docLinkHtml = 'Like what you see? Visit the ' +\n",
              "            '<a target=\"_blank\" href=https://colab.research.google.com/notebooks/data_table.ipynb>data table notebook</a>'\n",
              "            + ' to learn more about interactive tables.';\n",
              "          element.innerHTML = '';\n",
              "          dataTable['output_type'] = 'display_data';\n",
              "          await google.colab.output.renderOutput(dataTable, element);\n",
              "          const docLink = document.createElement('div');\n",
              "          docLink.innerHTML = docLinkHtml;\n",
              "          element.appendChild(docLink);\n",
              "        }\n",
              "      </script>\n",
              "    </div>\n",
              "  </div>\n",
              "  "
            ]
          },
          "metadata": {},
          "execution_count": 2
        }
      ]
    },
    {
      "cell_type": "code",
      "source": [
        "#Visualize the closing price history\n",
        "plt.figure(figsize=(16,8))\n",
        "plt.title('Close Price History')\n",
        "plt.plot(df[ 'Close' ])\n",
        "\n",
        "\n",
        "plt.xlabel( 'Date', fontsize=18)\n",
        "plt.ylabel('Close Price USD ($)', fontsize=18)\n",
        "plt. show()\n"
      ],
      "metadata": {
        "colab": {
          "base_uri": "https://localhost:8080/",
          "height": 557
        },
        "id": "CYYzTcJtxL9y",
        "outputId": "1a6efe1b-ecde-4b2b-88d1-da1521a1a9d9"
      },
      "execution_count": null,
      "outputs": [
        {
          "output_type": "display_data",
          "data": {
            "text/plain": [
              "<Figure size 1152x576 with 1 Axes>"
            ],
            "image/png": "[encoded data removed]"
          },
          "metadata": {}
        }
      ]
    },
    {
      "cell_type": "code",
      "source": [
        "df.shape"
      ],
      "metadata": {
        "colab": {
          "base_uri": "https://localhost:8080/"
        },
        "id": "1ZQvU5BSvcR3",
        "outputId": "0cbff33e-b31f-4e90-b3bc-7819edb3f6de"
      },
      "execution_count": null,
      "outputs": [
        {
          "output_type": "execute_result",
          "data": {
            "text/plain": [
              "(137, 6)"
            ]
          },
          "metadata": {},
          "execution_count": 4
        }
      ]
    },
    {
      "cell_type": "code",
      "source": [
        "#Create a new dataframe with only the'Close column\n",
        "data = df.filter(['Close'])\n",
        "#Convert the dataframe to a numpy array\n",
        "dataset = data.values\n",
        "#Get the number of rows to train the model on\n",
        "training_data_len = math.ceil( len(dataset) * .8 )\n",
        "training_data_len"
      ],
      "metadata": {
        "colab": {
          "base_uri": "https://localhost:8080/"
        },
        "id": "1K58Fd0-pfpX",
        "outputId": "d6a35971-7c65-4570-ec98-3ee8e45ac1a9"
      },
      "execution_count": null,
      "outputs": [
        {
          "output_type": "execute_result",
          "data": {
            "text/plain": [
              "110"
            ]
          },
          "metadata": {},
          "execution_count": 5
        }
      ]
    },
    {
      "cell_type": "code",
      "source": [
        "#Scale the data\n",
        "scaler = MinMaxScaler (feature_range=(0,1))\n",
        "scaled_data = scaler.fit_transform(dataset)\n",
        "scaled_data"
      ],
      "metadata": {
        "colab": {
          "base_uri": "https://localhost:8080/"
        },
        "id": "94hdWTxhpfs-",
        "outputId": "c37f2e01-b42c-4315-9040-679261865486"
      },
      "execution_count": null,
      "outputs": [
        {
          "output_type": "execute_result",
          "data": {
            "text/plain": [
              "array([[0.87196995],\n",
              "       [0.86169298],\n",
              "       [0.8299976 ],\n",
              "       [0.81856811],\n",
              "       [0.81847204],\n",
              "       [0.85218439],\n",
              "       [0.83326322],\n",
              "       [0.78898576],\n",
              "       [0.66268456],\n",
              "       [0.55357569],\n",
              "       [0.41392406],\n",
              "       [0.45359125],\n",
              "       [0.44441883],\n",
              "       [0.44768441],\n",
              "       [0.44172954],\n",
              "       [0.40792115],\n",
              "       [0.46194733],\n",
              "       [0.48903245],\n",
              "       [0.48230918],\n",
              "       [0.49537152],\n",
              "       [0.5244736 ],\n",
              "       [0.5663499 ],\n",
              "       [0.59410734],\n",
              "       [0.5816213 ],\n",
              "       [0.55386386],\n",
              "       [0.54195407],\n",
              "       [0.54454733],\n",
              "       [0.56567758],\n",
              "       [0.55261524],\n",
              "       [0.52966013],\n",
              "       [0.49815687],\n",
              "       [0.5291799 ],\n",
              "       [0.51169944],\n",
              "       [0.51659779],\n",
              "       [0.50103827],\n",
              "       [0.49325848],\n",
              "       [0.48538267],\n",
              "       [0.43414185],\n",
              "       [0.45949813],\n",
              "       [0.49277825],\n",
              "       [0.48278941],\n",
              "       [0.49345058],\n",
              "       [0.50439987],\n",
              "       [0.53686362],\n",
              "       [0.63790453],\n",
              "       [0.65711384],\n",
              "       [0.71378131],\n",
              "       [0.68035715],\n",
              "       [0.69534039],\n",
              "       [0.68736851],\n",
              "       [0.69351549],\n",
              "       [0.70936318],\n",
              "       [0.68016502],\n",
              "       [0.73318275],\n",
              "       [0.69774156],\n",
              "       [0.6621083 ],\n",
              "       [0.66566198],\n",
              "       [0.70177549],\n",
              "       [0.73952178],\n",
              "       [0.75690618],\n",
              "       [0.77150529],\n",
              "       [0.83662483],\n",
              "       [0.8713937 ],\n",
              "       [0.86207718],\n",
              "       [0.90078391],\n",
              "       [0.88368765],\n",
              "       [0.88964255],\n",
              "       [0.86553486],\n",
              "       [0.88810578],\n",
              "       [0.81318945],\n",
              "       [0.85689065],\n",
              "       [0.85813923],\n",
              "       [0.85516181],\n",
              "       [0.88368765],\n",
              "       [0.88167068],\n",
              "       [0.85314484],\n",
              "       [0.82106526],\n",
              "       [0.82423482],\n",
              "       [0.81616694],\n",
              "       [0.80886739],\n",
              "       [0.768816  ],\n",
              "       [0.80588997],\n",
              "       [0.83941019],\n",
              "       [0.88272719],\n",
              "       [0.86755182],\n",
              "       [0.86563092],\n",
              "       [0.88042203],\n",
              "       [0.88272719],\n",
              "       [0.86140485],\n",
              "       [0.83297509],\n",
              "       [0.88724139],\n",
              "       [0.92700465],\n",
              "       [0.94073931],\n",
              "       [0.95063209],\n",
              "       [0.96638371],\n",
              "       [0.94554164],\n",
              "       [0.90491392],\n",
              "       [0.93267136],\n",
              "       [0.92306671],\n",
              "       [0.87715648],\n",
              "       [0.88916229],\n",
              "       [0.85727485],\n",
              "       [0.87734854],\n",
              "       [0.89261997],\n",
              "       [0.93689743],\n",
              "       [0.98655347],\n",
              "       [1.        ],\n",
              "       [0.93708949],\n",
              "       [0.95821977],\n",
              "       [0.9827116 ],\n",
              "       [0.94554164],\n",
              "       [0.90568231],\n",
              "       [0.82433088],\n",
              "       [0.7206006 ],\n",
              "       [0.80003113],\n",
              "       [0.82260205],\n",
              "       [0.74374785],\n",
              "       [0.69841388],\n",
              "       [0.68045315],\n",
              "       [0.69217084],\n",
              "       [0.67910851],\n",
              "       [0.71762318],\n",
              "       [0.68227806],\n",
              "       [0.7409625 ],\n",
              "       [0.77419459],\n",
              "       [0.80435319],\n",
              "       [0.80406506],\n",
              "       [0.        ],\n",
              "       [0.76286109],\n",
              "       [0.76094019],\n",
              "       [0.70071898],\n",
              "       [0.72309783],\n",
              "       [0.75229599],\n",
              "       [0.74586089],\n",
              "       [0.76094019],\n",
              "       [0.78898576],\n",
              "       [0.81126855]])"
            ]
          },
          "metadata": {},
          "execution_count": 6
        }
      ]
    },
    {
      "cell_type": "code",
      "source": [
        "#Create the training data set\n",
        "#Create the scaled training data set\n",
        "train_data = scaled_data[0: training_data_len , :]\n",
        "#Split the data into x_train and y_train data sets\n",
        "x_train = []\n",
        "y_train = []\n",
        "for i in range(60, len(train_data)):\n",
        "  x_train.append (train_data[i-60:i,0])\n",
        "  y_train.append (train_data[i, 0])\n",
        "  if i<= 61:\n",
        "    print(x_train)\n",
        "    print(y_train)\n",
        "    print()"
      ],
      "metadata": {
        "colab": {
          "base_uri": "https://localhost:8080/"
        },
        "id": "Yq4TpBjQpfv3",
        "outputId": "6e6b268e-0c2f-46a9-f8eb-4fcbc7cd16da"
      },
      "execution_count": null,
      "outputs": [
        {
          "output_type": "stream",
          "name": "stdout",
          "text": [
            "[array([0.87196995, 0.86169298, 0.8299976 , 0.81856811, 0.81847204,\n",
            "       0.85218439, 0.83326322, 0.78898576, 0.66268456, 0.55357569,\n",
            "       0.41392406, 0.45359125, 0.44441883, 0.44768441, 0.44172954,\n",
            "       0.40792115, 0.46194733, 0.48903245, 0.48230918, 0.49537152,\n",
            "       0.5244736 , 0.5663499 , 0.59410734, 0.5816213 , 0.55386386,\n",
            "       0.54195407, 0.54454733, 0.56567758, 0.55261524, 0.52966013,\n",
            "       0.49815687, 0.5291799 , 0.51169944, 0.51659779, 0.50103827,\n",
            "       0.49325848, 0.48538267, 0.43414185, 0.45949813, 0.49277825,\n",
            "       0.48278941, 0.49345058, 0.50439987, 0.53686362, 0.63790453,\n",
            "       0.65711384, 0.71378131, 0.68035715, 0.69534039, 0.68736851,\n",
            "       0.69351549, 0.70936318, 0.68016502, 0.73318275, 0.69774156,\n",
            "       0.6621083 , 0.66566198, 0.70177549, 0.73952178, 0.75690618])]\n",
            "[0.7715052925744702]\n",
            "\n",
            "[array([0.87196995, 0.86169298, 0.8299976 , 0.81856811, 0.81847204,\n",
            "       0.85218439, 0.83326322, 0.78898576, 0.66268456, 0.55357569,\n",
            "       0.41392406, 0.45359125, 0.44441883, 0.44768441, 0.44172954,\n",
            "       0.40792115, 0.46194733, 0.48903245, 0.48230918, 0.49537152,\n",
            "       0.5244736 , 0.5663499 , 0.59410734, 0.5816213 , 0.55386386,\n",
            "       0.54195407, 0.54454733, 0.56567758, 0.55261524, 0.52966013,\n",
            "       0.49815687, 0.5291799 , 0.51169944, 0.51659779, 0.50103827,\n",
            "       0.49325848, 0.48538267, 0.43414185, 0.45949813, 0.49277825,\n",
            "       0.48278941, 0.49345058, 0.50439987, 0.53686362, 0.63790453,\n",
            "       0.65711384, 0.71378131, 0.68035715, 0.69534039, 0.68736851,\n",
            "       0.69351549, 0.70936318, 0.68016502, 0.73318275, 0.69774156,\n",
            "       0.6621083 , 0.66566198, 0.70177549, 0.73952178, 0.75690618]), array([0.86169298, 0.8299976 , 0.81856811, 0.81847204, 0.85218439,\n",
            "       0.83326322, 0.78898576, 0.66268456, 0.55357569, 0.41392406,\n",
            "       0.45359125, 0.44441883, 0.44768441, 0.44172954, 0.40792115,\n",
            "       0.46194733, 0.48903245, 0.48230918, 0.49537152, 0.5244736 ,\n",
            "       0.5663499 , 0.59410734, 0.5816213 , 0.55386386, 0.54195407,\n",
            "       0.54454733, 0.56567758, 0.55261524, 0.52966013, 0.49815687,\n",
            "       0.5291799 , 0.51169944, 0.51659779, 0.50103827, 0.49325848,\n",
            "       0.48538267, 0.43414185, 0.45949813, 0.49277825, 0.48278941,\n",
            "       0.49345058, 0.50439987, 0.53686362, 0.63790453, 0.65711384,\n",
            "       0.71378131, 0.68035715, 0.69534039, 0.68736851, 0.69351549,\n",
            "       0.70936318, 0.68016502, 0.73318275, 0.69774156, 0.6621083 ,\n",
            "       0.66566198, 0.70177549, 0.73952178, 0.75690618, 0.77150529])]\n",
            "[0.7715052925744702, 0.8366248311507983]\n",
            "\n"
          ]
        }
      ]
    },
    {
      "cell_type": "code",
      "source": [
        "x_train , y_train = np.array(x_train),np.array(y_train)\n",
        "x_train = np.reshape( x_train ,(x_train.shape[0],x_train.shape[1],1))\n",
        "x_train.shape\n"
      ],
      "metadata": {
        "colab": {
          "base_uri": "https://localhost:8080/"
        },
        "id": "kCOu8YMjpfyO",
        "outputId": "d62a625a-50ef-4dd1-b366-cb98ffea5c8d"
      },
      "execution_count": null,
      "outputs": [
        {
          "output_type": "execute_result",
          "data": {
            "text/plain": [
              "(50, 60, 1)"
            ]
          },
          "metadata": {},
          "execution_count": 8
        }
      ]
    },
    {
      "cell_type": "code",
      "source": [
        "#Build the LSTM model\n",
        "model = Sequential()\n",
        "model.add (LSTM(50, return_sequences=True, input_shape= (x_train.shape[1], 1)))\n",
        "model.add(LSTM(50, return_sequences= False))\n",
        "model.add (Dense(12) )\n",
        "model.add (Dense(1))"
      ],
      "metadata": {
        "id": "NhUHouo2pf0T"
      },
      "execution_count": null,
      "outputs": []
    },
    {
      "cell_type": "code",
      "source": [
        "#Compile the model\n",
        "model.compile(optimizer='adam',loss = 'mean_squared_error')"
      ],
      "metadata": {
        "id": "53udctKSpf2o"
      },
      "execution_count": null,
      "outputs": []
    },
    {
      "cell_type": "code",
      "source": [
        "#Train the model\n",
        "model.fit(x_train, y_train, batch_size=2, epochs=2)"
      ],
      "metadata": {
        "colab": {
          "base_uri": "https://localhost:8080/"
        },
        "id": "U8BkDbnUpf4v",
        "outputId": "f0b5a650-0b59-4734-ae21-bc321d4460e2"
      },
      "execution_count": null,
      "outputs": [
        {
          "output_type": "stream",
          "name": "stdout",
          "text": [
            "Epoch 1/2\n",
            "25/25 [==============================] - 9s 82ms/step - loss: 0.1082\n",
            "Epoch 2/2\n",
            "25/25 [==============================] - 2s 68ms/step - loss: 0.0053\n"
          ]
        },
        {
          "output_type": "execute_result",
          "data": {
            "text/plain": [
              "<keras.callbacks.History at 0x7f1d8abb9290>"
            ]
          },
          "metadata": {},
          "execution_count": 11
        }
      ]
    },
    {
      "cell_type": "code",
      "source": [
        "#Create the testing data set\n",
        "#Create a new array containing scaled values from index 1543 to 2003\n",
        "test_data = scaled_data[training_data_len - 60: , :]\n",
        "#Create the data sets x test and y_test\n",
        "x_test = []\n",
        "y_test = dataset[training_data_len:, :]\n",
        "for i in range(60, len(test_data)) :\n",
        "  x_test.append(test_data[i-60:i, 0])"
      ],
      "metadata": {
        "id": "syq5CqUAp8vX"
      },
      "execution_count": null,
      "outputs": []
    },
    {
      "cell_type": "code",
      "source": [
        "x_test = np.array(x_test)"
      ],
      "metadata": {
        "id": "oJOAorN7qIWE"
      },
      "execution_count": null,
      "outputs": []
    },
    {
      "cell_type": "code",
      "source": [
        "x_test = np.reshape(x_test ,(x_test.shape[0],x_test.shape[1],1))\n",
        "x_test.shape"
      ],
      "metadata": {
        "colab": {
          "base_uri": "https://localhost:8080/"
        },
        "id": "9XBuY2cUqI-N",
        "outputId": "75fcb2c0-3bd1-4dcb-f18c-eaf9380ad17f"
      },
      "execution_count": null,
      "outputs": [
        {
          "output_type": "execute_result",
          "data": {
            "text/plain": [
              "(27, 60, 1)"
            ]
          },
          "metadata": {},
          "execution_count": 14
        }
      ]
    },
    {
      "cell_type": "code",
      "source": [
        "#now lets get the model predicted price values \n",
        "\n",
        "predictions = model.predict(x_test)\n",
        "predictions = scaler.inverse_transform(predictions)"
      ],
      "metadata": {
        "id": "Xhs-OtxoqJBC"
      },
      "execution_count": null,
      "outputs": []
    },
    {
      "cell_type": "code",
      "source": [
        "#Get the root mean squared error (RMSE)\n",
        "rmse = np.sqrt( np.mean( predictions- y_test )**2 )\n",
        "rmse"
      ],
      "metadata": {
        "colab": {
          "base_uri": "https://localhost:8080/"
        },
        "id": "jTMrpO_OqJD6",
        "outputId": "ff719cff-3116-4a5e-b6a3-0d6a4a4596a0"
      },
      "execution_count": null,
      "outputs": [
        {
          "output_type": "execute_result",
          "data": {
            "text/plain": [
              "26.150919408528647"
            ]
          },
          "metadata": {},
          "execution_count": 16
        }
      ]
    },
    {
      "cell_type": "code",
      "source": [
        "#Plot the data\n",
        "train = data[:training_data_len]\n",
        "valid = data[training_data_len:]\n",
        "valid['Predictions'] = predictions\n"
      ],
      "metadata": {
        "colab": {
          "base_uri": "https://localhost:8080/"
        },
        "id": "svWZs3xpqJGQ",
        "outputId": "01681fff-8ccc-4145-ae5c-5def843736a5"
      },
      "execution_count": null,
      "outputs": [
        {
          "output_type": "stream",
          "name": "stderr",
          "text": [
            "/usr/local/lib/python3.7/dist-packages/ipykernel_launcher.py:4: SettingWithCopyWarning: \n",
            "A value is trying to be set on a copy of a slice from a DataFrame.\n",
            "Try using .loc[row_indexer,col_indexer] = value instead\n",
            "\n",
            "See the caveats in the documentation: https://pandas.pydata.org/pandas-docs/stable/user_guide/indexing.html#returning-a-view-versus-a-copy\n",
            "  after removing the cwd from sys.path.\n"
          ]
        }
      ]
    },
    {
      "cell_type": "code",
      "source": [
        "#Visualize the data\n",
        "plt.figure(figsize=(16,8))\n",
        "plt.title('Model')\n",
        "plt.xlabel ('Date', fontsize=18)\n",
        "plt.ylabel ('Close Price USD ($)', fontsize=18)\n",
        "plt.plot(train['Close'])\n",
        "plt.plot(valid[['Close','Predictions']])\n",
        "plt. legend(['Train','Val', 'Predictions'], loc='lower right')\n",
        "plt. show()"
      ],
      "metadata": {
        "colab": {
          "base_uri": "https://localhost:8080/",
          "height": 557
        },
        "id": "CWd0zzmvqWee",
        "outputId": "5eae1adf-4484-4cbf-b09f-4ca32da27f1b"
      },
      "execution_count": null,
      "outputs": [
        {
          "output_type": "display_data",
          "data": {
            "text/plain": [
              "<Figure size 1152x576 with 1 Axes>"
            ],
            "image/png": "[encoded data removed]"
          },
          "metadata": {}
        }
      ]
    },
    {
      "cell_type": "code",
      "source": [
        "valid"
      ],
      "metadata": {
        "colab": {
          "base_uri": "https://localhost:8080/",
          "height": 901
        },
        "id": "T4BzkJgpqWj_",
        "outputId": "86a542e6-78e0-4fe2-87fa-07b8fffc2f51"
      },
      "execution_count": null,
      "outputs": [
        {
          "output_type": "execute_result",
          "data": {
            "text/plain": [
              "                 Close  Predictions\n",
              "Date                               \n",
              "2022-02-09  198.460007   195.441330\n",
              "2022-02-16  190.160004   196.004013\n",
              "2022-02-23  173.220001   196.317245\n",
              "2022-03-02  151.619995   196.135178\n",
              "2022-03-09  168.160004   195.187286\n",
              "2022-03-16  172.860001   193.933517\n",
              "2022-03-23  156.440002   192.681427\n",
              "2022-03-30  147.000000   191.221313\n",
              "2022-04-06  143.259995   189.429947\n",
              "2022-04-13  145.699997   187.366196\n",
              "2022-04-20  142.979996   185.217255\n",
              "2022-04-27  151.000000   183.049515\n",
              "2022-05-04  143.639999   181.078308\n",
              "2022-05-11  155.860001   179.211853\n",
              "2022-05-18  162.779999   177.672562\n",
              "2022-05-25  169.059998   176.591446\n",
              "2022-06-01  169.000000   176.004257\n",
              "2022-06-08    1.567600   175.795517\n",
              "2022-06-15  160.419998   172.655914\n",
              "2022-06-22  160.020004   169.941269\n",
              "2022-06-29  147.479996   168.305847\n",
              "2022-07-06  152.139999   167.222717\n",
              "2022-07-13  158.220001   166.578796\n",
              "2022-07-20  156.880005   166.388870\n",
              "2022-07-27  160.020004   166.510696\n",
              "2022-08-03  165.860001   166.889877\n",
              "2022-08-10  170.500000   167.550278"
            ],
            "text/html": [
              "\n",
              "  <div id=\"df-c196c9de-f00d-4c56-88e4-c0f62b7e4a8d\">\n",
              "    <div class=\"colab-df-container\">\n",
              "      <div>\n",
              "<style scoped>\n",
              "    .dataframe tbody tr th:only-of-type {\n",
              "        vertical-align: middle;\n",
              "    }\n",
              "\n",
              "    .dataframe tbody tr th {\n",
              "        vertical-align: top;\n",
              "    }\n",
              "\n",
              "    .dataframe thead th {\n",
              "        text-align: right;\n",
              "    }\n",
              "</style>\n",
              "<table border=\"1\" class=\"dataframe\">\n",
              "  <thead>\n",
              "    <tr style=\"text-align: right;\">\n",
              "      <th></th>\n",
              "      <th>Close</th>\n",
              "      <th>Predictions</th>\n",
              "    </tr>\n",
              "    <tr>\n",
              "      <th>Date</th>\n",
              "      <th></th>\n",
              "      <th></th>\n",
              "    </tr>\n",
              "  </thead>\n",
              "  <tbody>\n",
              "    <tr>\n",
              "      <th>2022-02-09</th>\n",
              "      <td>198.460007</td>\n",
              "      <td>195.441330</td>\n",
              "    </tr>\n",
              "    <tr>\n",
              "      <th>2022-02-16</th>\n",
              "      <td>190.160004</td>\n",
              "      <td>196.004013</td>\n",
              "    </tr>\n",
              "    <tr>\n",
              "      <th>2022-02-23</th>\n",
              "      <td>173.220001</td>\n",
              "      <td>196.317245</td>\n",
              "    </tr>\n",
              "    <tr>\n",
              "      <th>2022-03-02</th>\n",
              "      <td>151.619995</td>\n",
              "      <td>196.135178</td>\n",
              "    </tr>\n",
              "    <tr>\n",
              "      <th>2022-03-09</th>\n",
              "      <td>168.160004</td>\n",
              "      <td>195.187286</td>\n",
              "    </tr>\n",
              "    <tr>\n",
              "      <th>2022-03-16</th>\n",
              "      <td>172.860001</td>\n",
              "      <td>193.933517</td>\n",
              "    </tr>\n",
              "    <tr>\n",
              "      <th>2022-03-23</th>\n",
              "      <td>156.440002</td>\n",
              "      <td>192.681427</td>\n",
              "    </tr>\n",
              "    <tr>\n",
              "      <th>2022-03-30</th>\n",
              "      <td>147.000000</td>\n",
              "      <td>191.221313</td>\n",
              "    </tr>\n",
              "    <tr>\n",
              "      <th>2022-04-06</th>\n",
              "      <td>143.259995</td>\n",
              "      <td>189.429947</td>\n",
              "    </tr>\n",
              "    <tr>\n",
              "      <th>2022-04-13</th>\n",
              "      <td>145.699997</td>\n",
              "      <td>187.366196</td>\n",
              "    </tr>\n",
              "    <tr>\n",
              "      <th>2022-04-20</th>\n",
              "      <td>142.979996</td>\n",
              "      <td>185.217255</td>\n",
              "    </tr>\n",
              "    <tr>\n",
              "      <th>2022-04-27</th>\n",
              "      <td>151.000000</td>\n",
              "      <td>183.049515</td>\n",
              "    </tr>\n",
              "    <tr>\n",
              "      <th>2022-05-04</th>\n",
              "      <td>143.639999</td>\n",
              "      <td>181.078308</td>\n",
              "    </tr>\n",
              "    <tr>\n",
              "      <th>2022-05-11</th>\n",
              "      <td>155.860001</td>\n",
              "      <td>179.211853</td>\n",
              "    </tr>\n",
              "    <tr>\n",
              "      <th>2022-05-18</th>\n",
              "      <td>162.779999</td>\n",
              "      <td>177.672562</td>\n",
              "    </tr>\n",
              "    <tr>\n",
              "      <th>2022-05-25</th>\n",
              "      <td>169.059998</td>\n",
              "      <td>176.591446</td>\n",
              "    </tr>\n",
              "    <tr>\n",
              "      <th>2022-06-01</th>\n",
              "      <td>169.000000</td>\n",
              "      <td>176.004257</td>\n",
              "    </tr>\n",
              "    <tr>\n",
              "      <th>2022-06-08</th>\n",
              "      <td>1.567600</td>\n",
              "      <td>175.795517</td>\n",
              "    </tr>\n",
              "    <tr>\n",
              "      <th>2022-06-15</th>\n",
              "      <td>160.419998</td>\n",
              "      <td>172.655914</td>\n",
              "    </tr>\n",
              "    <tr>\n",
              "      <th>2022-06-22</th>\n",
              "      <td>160.020004</td>\n",
              "      <td>169.941269</td>\n",
              "    </tr>\n",
              "    <tr>\n",
              "      <th>2022-06-29</th>\n",
              "      <td>147.479996</td>\n",
              "      <td>168.305847</td>\n",
              "    </tr>\n",
              "    <tr>\n",
              "      <th>2022-07-06</th>\n",
              "      <td>152.139999</td>\n",
              "      <td>167.222717</td>\n",
              "    </tr>\n",
              "    <tr>\n",
              "      <th>2022-07-13</th>\n",
              "      <td>158.220001</td>\n",
              "      <td>166.578796</td>\n",
              "    </tr>\n",
              "    <tr>\n",
              "      <th>2022-07-20</th>\n",
              "      <td>156.880005</td>\n",
              "      <td>166.388870</td>\n",
              "    </tr>\n",
              "    <tr>\n",
              "      <th>2022-07-27</th>\n",
              "      <td>160.020004</td>\n",
              "      <td>166.510696</td>\n",
              "    </tr>\n",
              "    <tr>\n",
              "      <th>2022-08-03</th>\n",
              "      <td>165.860001</td>\n",
              "      <td>166.889877</td>\n",
              "    </tr>\n",
              "    <tr>\n",
              "      <th>2022-08-10</th>\n",
              "      <td>170.500000</td>\n",
              "      <td>167.550278</td>\n",
              "    </tr>\n",
              "  </tbody>\n",
              "</table>\n",
              "</div>\n",
              "      <button class=\"colab-df-convert\" onclick=\"convertToInteractive('df-c196c9de-f00d-4c56-88e4-c0f62b7e4a8d')\"\n",
              "              title=\"Convert this dataframe to an interactive table.\"\n",
              "              style=\"display:none;\">\n",
              "        \n",
              "  <svg xmlns=\"http://www.w3.org/2000/svg\" height=\"24px\"viewBox=\"0 0 24 24\"\n",
              "       width=\"24px\">\n",
              "    <path d=\"M0 0h24v24H0V0z\" fill=\"none\"/>\n",
              "    <path d=\"M18.56 5.44l.94 2.06.94-2.06 2.06-.94-2.06-.94-.94-2.06-.94 2.06-2.06.94zm-11 1L8.5 8.5l.94-2.06 2.06-.94-2.06-.94L8.5 2.5l-.94 2.06-2.06.94zm10 10l.94 2.06.94-2.06 2.06-.94-2.06-.94-.94-2.06-.94 2.06-2.06.94z\"/><path d=\"M17.41 7.96l-1.37-1.37c-.4-.4-.92-.59-1.43-.59-.52 0-1.04.2-1.43.59L10.3 9.45l-7.72 7.72c-.78.78-.78 2.05 0 2.83L4 21.41c.39.39.9.59 1.41.59.51 0 1.02-.2 1.41-.59l7.78-7.78 2.81-2.81c.8-.78.8-2.07 0-2.86zM5.41 20L4 18.59l7.72-7.72 1.47 1.35L5.41 20z\"/>\n",
              "  </svg>\n",
              "      </button>\n",
              "      \n",
              "  <style>\n",
              "    .colab-df-container {\n",
              "      display:flex;\n",
              "      flex-wrap:wrap;\n",
              "      gap: 12px;\n",
              "    }\n",
              "\n",
              "    .colab-df-convert {\n",
              "      background-color: #E8F0FE;\n",
              "      border: none;\n",
              "      border-radius: 50%;\n",
              "      cursor: pointer;\n",
              "      display: none;\n",
              "      fill: #1967D2;\n",
              "      height: 32px;\n",
              "      padding: 0 0 0 0;\n",
              "      width: 32px;\n",
              "    }\n",
              "\n",
              "    .colab-df-convert:hover {\n",
              "      background-color: #E2EBFA;\n",
              "      box-shadow: 0px 1px 2px rgba(60, 64, 67, 0.3), 0px 1px 3px 1px rgba(60, 64, 67, 0.15);\n",
              "      fill: #174EA6;\n",
              "    }\n",
              "\n",
              "    [theme=dark] .colab-df-convert {\n",
              "      background-color: #3B4455;\n",
              "      fill: #D2E3FC;\n",
              "    }\n",
              "\n",
              "    [theme=dark] .colab-df-convert:hover {\n",
              "      background-color: #434B5C;\n",
              "      box-shadow: 0px 1px 3px 1px rgba(0, 0, 0, 0.15);\n",
              "      filter: drop-shadow(0px 1px 2px rgba(0, 0, 0, 0.3));\n",
              "      fill: #FFFFFF;\n",
              "    }\n",
              "  </style>\n",
              "\n",
              "      <script>\n",
              "        const buttonEl =\n",
              "          document.querySelector('#df-c196c9de-f00d-4c56-88e4-c0f62b7e4a8d button.colab-df-convert');\n",
              "        buttonEl.style.display =\n",
              "          google.colab.kernel.accessAllowed ? 'block' : 'none';\n",
              "\n",
              "        async function convertToInteractive(key) {\n",
              "          const element = document.querySelector('#df-c196c9de-f00d-4c56-88e4-c0f62b7e4a8d');\n",
              "          const dataTable =\n",
              "            await google.colab.kernel.invokeFunction('convertToInteractive',\n",
              "                                                     [key], {});\n",
              "          if (!dataTable) return;\n",
              "\n",
              "          const docLinkHtml = 'Like what you see? Visit the ' +\n",
              "            '<a target=\"_blank\" href=https://colab.research.google.com/notebooks/data_table.ipynb>data table notebook</a>'\n",
              "            + ' to learn more about interactive tables.';\n",
              "          element.innerHTML = '';\n",
              "          dataTable['output_type'] = 'display_data';\n",
              "          await google.colab.output.renderOutput(dataTable, element);\n",
              "          const docLink = document.createElement('div');\n",
              "          docLink.innerHTML = docLinkHtml;\n",
              "          element.appendChild(docLink);\n",
              "        }\n",
              "      </script>\n",
              "    </div>\n",
              "  </div>\n",
              "  "
            ]
          },
          "metadata": {},
          "execution_count": 19
        }
      ]
    }
  ]
}